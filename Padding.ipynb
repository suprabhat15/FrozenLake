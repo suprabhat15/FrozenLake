{
  "nbformat": 4,
  "nbformat_minor": 0,
  "metadata": {
    "colab": {
      "name": "Padding.ipynb",
      "provenance": [],
      "authorship_tag": "ABX9TyND5htniJLKvQBUoDegTLBV",
      "include_colab_link": true
    },
    "kernelspec": {
      "name": "python3",
      "display_name": "Python 3"
    }
  },
  "cells": [
    {
      "cell_type": "markdown",
      "metadata": {
        "id": "view-in-github",
        "colab_type": "text"
      },
      "source": [
        "<a href=\"https://colab.research.google.com/github/suprabhat25/FrozenLake/blob/main/Padding.ipynb\" target=\"_parent\"><img src=\"https://colab.research.google.com/assets/colab-badge.svg\" alt=\"Open In Colab\"/></a>"
      ]
    },
    {
      "cell_type": "markdown",
      "metadata": {
        "id": "ERml9PbKvW9s"
      },
      "source": [
        "# **Zero Padding** \n",
        "is implemented to maintain the size of the output image.\n",
        "\n",
        "https://www.youtube.com/watch?v=ZjM_XQa5s6s&list=PLZbbT5o_s2xq7LwI2y8_QtvuXZedL6tQU&index=22&ab_channel=deeplizard\n"
      ]
    },
    {
      "cell_type": "code",
      "metadata": {
        "id": "6k0vlD4JswJ4"
      },
      "source": [
        "import keras\n",
        "from keras.models import Sequential\n",
        "from keras.layers import Activation\n",
        "from keras.layers.core import Dense, Flatten\n",
        "from keras.layers.convolutional import *"
      ],
      "execution_count": 3,
      "outputs": []
    },
    {
      "cell_type": "markdown",
      "metadata": {
        "id": "2E2HvuKlt7be"
      },
      "source": [
        "kernel_size means the size of the filter.\n",
        "By default, the padding is 'valid' means \n",
        "if (n*n)(image) * (f*f)(filter) = (n-f+1)*(n-f+1)(output)  \n",
        "Check output of the below code for more insight."
      ]
    },
    {
      "cell_type": "code",
      "metadata": {
        "id": "NYzihQJDtCZ4"
      },
      "source": [
        "model_valid = Sequential([\n",
        "                          Dense(16, activation='relu', input_shape=(20,20,3)),\n",
        "                          Conv2D(32, kernel_size=(3,3), activation='relu',padding='valid'),\n",
        "                          Conv2D(64, kernel_size=(5,5), activation='relu',padding='valid'),\n",
        "                          Conv2D(128, kernel_size=(7,7), activation='relu',padding='valid'),\n",
        "                          Flatten(),\n",
        "                          Dense(2,activation='softmax'),\n",
        "])"
      ],
      "execution_count": 4,
      "outputs": []
    },
    {
      "cell_type": "code",
      "metadata": {
        "id": "yo_Iy7tYtnJD",
        "outputId": "9a408f54-ca31-47d0-992f-a3fe6c939027",
        "colab": {
          "base_uri": "https://localhost:8080/",
          "height": 353
        }
      },
      "source": [
        "model_valid.summary()"
      ],
      "execution_count": 5,
      "outputs": [
        {
          "output_type": "stream",
          "text": [
            "Model: \"sequential\"\n",
            "_________________________________________________________________\n",
            "Layer (type)                 Output Shape              Param #   \n",
            "=================================================================\n",
            "dense (Dense)                (None, 20, 20, 16)        64        \n",
            "_________________________________________________________________\n",
            "conv2d (Conv2D)              (None, 18, 18, 32)        4640      \n",
            "_________________________________________________________________\n",
            "conv2d_1 (Conv2D)            (None, 14, 14, 64)        51264     \n",
            "_________________________________________________________________\n",
            "conv2d_2 (Conv2D)            (None, 8, 8, 128)         401536    \n",
            "_________________________________________________________________\n",
            "flatten (Flatten)            (None, 8192)              0         \n",
            "_________________________________________________________________\n",
            "dense_1 (Dense)              (None, 2)                 16386     \n",
            "=================================================================\n",
            "Total params: 473,890\n",
            "Trainable params: 473,890\n",
            "Non-trainable params: 0\n",
            "_________________________________________________________________\n"
          ],
          "name": "stdout"
        }
      ]
    },
    {
      "cell_type": "markdown",
      "metadata": {
        "id": "WYxcfHC-u4_Q"
      },
      "source": [
        "'same' padding means no padding."
      ]
    },
    {
      "cell_type": "code",
      "metadata": {
        "id": "Vfz2sTMpuoPX"
      },
      "source": [
        "model_same = Sequential([\n",
        "                          Dense(16, activation='relu', input_shape=(20,20,3)),\n",
        "                          Conv2D(32, kernel_size=(3,3), activation='relu',padding='same'),\n",
        "                          Conv2D(64, kernel_size=(5,5), activation='relu',padding='same'),\n",
        "                          Conv2D(128, kernel_size=(7,7), activation='relu',padding='same'),\n",
        "                          Flatten(),\n",
        "                          Dense(2,activation='softmax'),\n",
        "])"
      ],
      "execution_count": 9,
      "outputs": []
    },
    {
      "cell_type": "code",
      "metadata": {
        "id": "UdVI7KtJuxw1",
        "outputId": "2117a1d5-ed61-4c78-e1a3-fbd6af626749",
        "colab": {
          "base_uri": "https://localhost:8080/",
          "height": 353
        }
      },
      "source": [
        "model_same.summary()"
      ],
      "execution_count": 10,
      "outputs": [
        {
          "output_type": "stream",
          "text": [
            "Model: \"sequential_3\"\n",
            "_________________________________________________________________\n",
            "Layer (type)                 Output Shape              Param #   \n",
            "=================================================================\n",
            "dense_6 (Dense)              (None, 20, 20, 16)        64        \n",
            "_________________________________________________________________\n",
            "conv2d_9 (Conv2D)            (None, 20, 20, 32)        4640      \n",
            "_________________________________________________________________\n",
            "conv2d_10 (Conv2D)           (None, 20, 20, 64)        51264     \n",
            "_________________________________________________________________\n",
            "conv2d_11 (Conv2D)           (None, 20, 20, 128)       401536    \n",
            "_________________________________________________________________\n",
            "flatten_3 (Flatten)          (None, 51200)             0         \n",
            "_________________________________________________________________\n",
            "dense_7 (Dense)              (None, 2)                 102402    \n",
            "=================================================================\n",
            "Total params: 559,906\n",
            "Trainable params: 559,906\n",
            "Non-trainable params: 0\n",
            "_________________________________________________________________\n"
          ],
          "name": "stdout"
        }
      ]
    }
  ]
}