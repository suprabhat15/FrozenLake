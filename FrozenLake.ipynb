{
  "nbformat": 4,
  "nbformat_minor": 0,
  "metadata": {
    "colab": {
      "name": "FrozenLake.ipynb",
      "provenance": [],
      "collapsed_sections": [],
      "authorship_tag": "ABX9TyN/frOF6uc5C7PtukFw9Cxz",
      "include_colab_link": true
    },
    "kernelspec": {
      "name": "python3",
      "display_name": "Python 3"
    }
  },
  "cells": [
    {
      "cell_type": "markdown",
      "metadata": {
        "id": "view-in-github",
        "colab_type": "text"
      },
      "source": [
        "<a href=\"https://colab.research.google.com/github/suprabhat25/FrozenLake/blob/main/FrozenLake.ipynb\" target=\"_parent\"><img src=\"https://colab.research.google.com/assets/colab-badge.svg\" alt=\"Open In Colab\"/></a>"
      ]
    },
    {
      "cell_type": "code",
      "metadata": {
        "id": "tw8_nGRbx9Hk",
        "outputId": "850b19c9-895c-4253-b93e-f43922ef0d46",
        "colab": {
          "base_uri": "https://localhost:8080/",
          "height": 138
        }
      },
      "source": [
        "pip install gym"
      ],
      "execution_count": null,
      "outputs": [
        {
          "output_type": "stream",
          "text": [
            "Requirement already satisfied: gym in /usr/local/lib/python3.6/dist-packages (0.17.2)\n",
            "Requirement already satisfied: pyglet<=1.5.0,>=1.4.0 in /usr/local/lib/python3.6/dist-packages (from gym) (1.5.0)\n",
            "Requirement already satisfied: scipy in /usr/local/lib/python3.6/dist-packages (from gym) (1.4.1)\n",
            "Requirement already satisfied: numpy>=1.10.4 in /usr/local/lib/python3.6/dist-packages (from gym) (1.18.5)\n",
            "Requirement already satisfied: cloudpickle<1.4.0,>=1.2.0 in /usr/local/lib/python3.6/dist-packages (from gym) (1.3.0)\n",
            "Requirement already satisfied: future in /usr/local/lib/python3.6/dist-packages (from pyglet<=1.5.0,>=1.4.0->gym) (0.16.0)\n"
          ],
          "name": "stdout"
        }
      ]
    },
    {
      "cell_type": "code",
      "metadata": {
        "id": "QCC1iOs_yGLK"
      },
      "source": [
        "import gym\n",
        "import numpy as np\n",
        "import random\n",
        "import time\n",
        "from IPython.display import clear_output"
      ],
      "execution_count": 1,
      "outputs": []
    },
    {
      "cell_type": "code",
      "metadata": {
        "id": "Ypgr_J2vydni"
      },
      "source": [
        "env = gym.make(\"FrozenLake-v0\") # creating the environment"
      ],
      "execution_count": 2,
      "outputs": []
    },
    {
      "cell_type": "code",
      "metadata": {
        "id": "GeYm6MBbyvfF",
        "outputId": "6fdbef9c-509f-4d55-fcea-29bf3f1ded18",
        "colab": {
          "base_uri": "https://localhost:8080/",
          "height": 286
        }
      },
      "source": [
        "action_space_size = env.action_space.n\n",
        "state_space_size = env.observation_space.n\n",
        "\n",
        "q_table = np.zeros((state_space_size, action_space_size))\n",
        "print(q_table)"
      ],
      "execution_count": 3,
      "outputs": [
        {
          "output_type": "stream",
          "text": [
            "[[0. 0. 0. 0.]\n",
            " [0. 0. 0. 0.]\n",
            " [0. 0. 0. 0.]\n",
            " [0. 0. 0. 0.]\n",
            " [0. 0. 0. 0.]\n",
            " [0. 0. 0. 0.]\n",
            " [0. 0. 0. 0.]\n",
            " [0. 0. 0. 0.]\n",
            " [0. 0. 0. 0.]\n",
            " [0. 0. 0. 0.]\n",
            " [0. 0. 0. 0.]\n",
            " [0. 0. 0. 0.]\n",
            " [0. 0. 0. 0.]\n",
            " [0. 0. 0. 0.]\n",
            " [0. 0. 0. 0.]\n",
            " [0. 0. 0. 0.]]\n"
          ],
          "name": "stdout"
        }
      ]
    },
    {
      "cell_type": "code",
      "metadata": {
        "id": "nEnUoFCPzaqJ"
      },
      "source": [
        "num_episodes = 10000\n",
        "max_steps_per_episode = 100\n",
        "\n",
        "learning_rate = 0.1  # alpha\n",
        "discount_rate = 0.99 # gamma\n",
        "\n",
        "#below all are related to exploration - exploitation trade off\n",
        "exploration_rate = 1\n",
        "max_exploration_rate = 1\n",
        "min_exploration_rate = 0.01\n",
        "exploration_decay_rate = 0.01"
      ],
      "execution_count": 4,
      "outputs": []
    },
    {
      "cell_type": "code",
      "metadata": {
        "id": "vRMlrsGH0-uR",
        "outputId": "fd59c2ce-2d00-4628-fc1e-c7715198aa3c",
        "colab": {
          "base_uri": "https://localhost:8080/",
          "height": 538
        }
      },
      "source": [
        "rewards_all_episodes = []\n",
        "\n",
        "for episode in range(num_episodes):\n",
        "    state = env.reset()\n",
        "\n",
        "    done = False\n",
        "    rewards_current_episode = 0\n",
        "\n",
        "    for step in range(max_steps_per_episode):\n",
        "\n",
        "           # Exploration - exploitation trade off\n",
        "           exploration_rate_threshold = random.uniform(0,1) \n",
        "           if exploration_rate_threshold > exploration_rate: #exploitation\n",
        "             action = np.argmax(q_table[state,:])\n",
        "           else:\n",
        "             action = env.action_space.sample() #exploration\n",
        "           \n",
        "           new_state, reward, done, info = env.step(action)\n",
        "\n",
        "\n",
        "           #Update Q - table for Q(s,a)\n",
        "\n",
        "           q_table[state, action] = (q_table[state, action] * (1-learning_rate) + \n",
        "                   learning_rate * (reward + discount_rate * np.max(q_table[new_state, :])) )\n",
        "    \n",
        "           state = new_state\n",
        "           rewards_current_episode += reward\n",
        "\n",
        "           if done == True : \n",
        "                break\n",
        "\n",
        "       # Exploration rate decay\n",
        "    exploration_rate = min_exploration_rate + (max_exploration_rate - min_exploration_rate) * np.exp(-exploration_decay_rate *episode)\n",
        "    rewards_all_episodes.append(rewards_current_episode)\n",
        "\n",
        "#Calculate and print the average reward per thousand episodes\n",
        "rewards_per_thousand_episodes = np.split(np.array(rewards_all_episodes),num_episodes/1000)\n",
        "count=1000\n",
        "print(\"Average reward per thousand episodes\\n\")\n",
        "for r in rewards_per_thousand_episodes:\n",
        "  print(count,\" : \", str(sum(r/1000)))\n",
        "  count+=1000\n",
        "print()\n",
        "#Print updated Q-table\n",
        "print(\"            Q-table           \\n\")\n",
        "print(q_table)\n"
      ],
      "execution_count": 10,
      "outputs": [
        {
          "output_type": "stream",
          "text": [
            "Average reward per thousand episodes\n",
            "\n",
            "1000  :  0.46200000000000035\n",
            "2000  :  0.6830000000000005\n",
            "3000  :  0.6910000000000005\n",
            "4000  :  0.6710000000000005\n",
            "5000  :  0.6730000000000005\n",
            "6000  :  0.6860000000000005\n",
            "7000  :  0.6810000000000005\n",
            "8000  :  0.6920000000000005\n",
            "9000  :  0.6660000000000005\n",
            "10000  :  0.6720000000000005\n",
            "\n",
            "            Q-table           \n",
            "\n",
            "[[0.53657679 0.50754258 0.5049298  0.50406732]\n",
            " [0.22916582 0.14180697 0.24973354 0.46975211]\n",
            " [0.43647656 0.23057953 0.158142   0.23563941]\n",
            " [0.18372877 0.01493798 0.         0.02878895]\n",
            " [0.55541822 0.39813996 0.3300869  0.33206004]\n",
            " [0.         0.         0.         0.        ]\n",
            " [0.40441925 0.18159926 0.14228443 0.07791366]\n",
            " [0.         0.         0.         0.        ]\n",
            " [0.44663894 0.40487064 0.30331341 0.59533074]\n",
            " [0.47180538 0.66126792 0.21683316 0.42964982]\n",
            " [0.62272686 0.39105854 0.34558961 0.34471676]\n",
            " [0.         0.         0.         0.        ]\n",
            " [0.         0.         0.         0.        ]\n",
            " [0.38716309 0.57983771 0.75151729 0.55495807]\n",
            " [0.75976567 0.89656622 0.74059185 0.68364524]\n",
            " [0.         0.         0.         0.        ]]\n"
          ],
          "name": "stdout"
        }
      ]
    },
    {
      "cell_type": "code",
      "metadata": {
        "id": "8SP47O9oBcVi",
        "outputId": "e1af2883-d219-4692-f730-e8ea3200ff3b",
        "colab": {
          "base_uri": "https://localhost:8080/",
          "height": 118
        }
      },
      "source": [
        "for episode in range(3):\n",
        "  state = env.reset()\n",
        "  done = False\n",
        "  print(\"Episode \",episode+1,\"\\n\")\n",
        "  time.sleep(1)\n",
        "\n",
        "  for step in range(max_steps_per_episode):\n",
        "    clear_output(wait=True)\n",
        "    env.render()\n",
        "    time.sleep(0.3)\n",
        "\n",
        "    action = np.argmax(q_table[state,:])\n",
        "    new_state, reward, done, info = env.step(action)\n",
        "\n",
        "    if done:\n",
        "      clear_output(wait=True)\n",
        "      env.render()\n",
        "      if reward == 1:\n",
        "        print(\"Goal\")\n",
        "        time.sleep(3)\n",
        "      else:\n",
        "        print(\"Failed\")\n",
        "        time.sleep(3)\n",
        "      clear_output(wait=True)\n",
        "      break\n",
        "\n",
        "    state = new_state\n",
        "\n",
        "env.close()"
      ],
      "execution_count": 11,
      "outputs": [
        {
          "output_type": "stream",
          "text": [
            "  (Down)\n",
            "SFFF\n",
            "FHFH\n",
            "FFFH\n",
            "HFF\u001b[41mG\u001b[0m\n",
            "Goal\n"
          ],
          "name": "stdout"
        }
      ]
    },
    {
      "cell_type": "code",
      "metadata": {
        "id": "QUYId7581Dtm"
      },
      "source": [
        ""
      ],
      "execution_count": null,
      "outputs": []
    }
  ]
}