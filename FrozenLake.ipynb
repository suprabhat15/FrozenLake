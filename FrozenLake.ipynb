{
  "nbformat": 4,
  "nbformat_minor": 0,
  "metadata": {
    "colab": {
      "name": "FrozenLake.ipynb",
      "provenance": [],
      "collapsed_sections": [],
      "authorship_tag": "ABX9TyP44DxFc1wIFk06TrLxoOco",
      "include_colab_link": true
    },
    "kernelspec": {
      "name": "python3",
      "display_name": "Python 3"
    }
  },
  "cells": [
    {
      "cell_type": "markdown",
      "metadata": {
        "id": "view-in-github",
        "colab_type": "text"
      },
      "source": [
        "<a href=\"https://colab.research.google.com/github/suprabhat25/FrozenLake/blob/main/FrozenLake.ipynb\" target=\"_parent\"><img src=\"https://colab.research.google.com/assets/colab-badge.svg\" alt=\"Open In Colab\"/></a>"
      ]
    },
    {
      "cell_type": "code",
      "metadata": {
        "id": "tw8_nGRbx9Hk",
        "outputId": "850b19c9-895c-4253-b93e-f43922ef0d46",
        "colab": {
          "base_uri": "https://localhost:8080/",
          "height": 138
        }
      },
      "source": [
        "pip install gym"
      ],
      "execution_count": 1,
      "outputs": [
        {
          "output_type": "stream",
          "text": [
            "Requirement already satisfied: gym in /usr/local/lib/python3.6/dist-packages (0.17.2)\n",
            "Requirement already satisfied: pyglet<=1.5.0,>=1.4.0 in /usr/local/lib/python3.6/dist-packages (from gym) (1.5.0)\n",
            "Requirement already satisfied: scipy in /usr/local/lib/python3.6/dist-packages (from gym) (1.4.1)\n",
            "Requirement already satisfied: numpy>=1.10.4 in /usr/local/lib/python3.6/dist-packages (from gym) (1.18.5)\n",
            "Requirement already satisfied: cloudpickle<1.4.0,>=1.2.0 in /usr/local/lib/python3.6/dist-packages (from gym) (1.3.0)\n",
            "Requirement already satisfied: future in /usr/local/lib/python3.6/dist-packages (from pyglet<=1.5.0,>=1.4.0->gym) (0.16.0)\n"
          ],
          "name": "stdout"
        }
      ]
    },
    {
      "cell_type": "code",
      "metadata": {
        "id": "QCC1iOs_yGLK"
      },
      "source": [
        "import gym\n",
        "import numpy as np\n",
        "import random\n",
        "import time\n",
        "from IPython.display import clear_output"
      ],
      "execution_count": 6,
      "outputs": []
    },
    {
      "cell_type": "code",
      "metadata": {
        "id": "Ypgr_J2vydni"
      },
      "source": [
        "env = gym.make(\"FrozenLake-v0\") # creating the environment"
      ],
      "execution_count": 7,
      "outputs": []
    },
    {
      "cell_type": "code",
      "metadata": {
        "id": "GeYm6MBbyvfF",
        "outputId": "0532ff32-13e5-480a-bb4c-14c2f42fc25a",
        "colab": {
          "base_uri": "https://localhost:8080/",
          "height": 286
        }
      },
      "source": [
        "action_space_size = env.action_space.n\n",
        "state_space_size = env.observation_space.n\n",
        "\n",
        "q_table = np.zeros((state_space_size, action_space_size))\n",
        "print(q_table)"
      ],
      "execution_count": 10,
      "outputs": [
        {
          "output_type": "stream",
          "text": [
            "[[0. 0. 0. 0.]\n",
            " [0. 0. 0. 0.]\n",
            " [0. 0. 0. 0.]\n",
            " [0. 0. 0. 0.]\n",
            " [0. 0. 0. 0.]\n",
            " [0. 0. 0. 0.]\n",
            " [0. 0. 0. 0.]\n",
            " [0. 0. 0. 0.]\n",
            " [0. 0. 0. 0.]\n",
            " [0. 0. 0. 0.]\n",
            " [0. 0. 0. 0.]\n",
            " [0. 0. 0. 0.]\n",
            " [0. 0. 0. 0.]\n",
            " [0. 0. 0. 0.]\n",
            " [0. 0. 0. 0.]\n",
            " [0. 0. 0. 0.]]\n"
          ],
          "name": "stdout"
        }
      ]
    },
    {
      "cell_type": "code",
      "metadata": {
        "id": "nEnUoFCPzaqJ"
      },
      "source": [
        "num_episodes = 10000\n",
        "max_steps_per_episode = 100\n",
        "\n",
        "learning_rate = 0.1  # alpha\n",
        "discount_rate = 0.9  # gamma\n",
        "\n",
        "#below all are related to exploration - exploitation trade off\n",
        "exploration_rate = 1\n",
        "max_exploration_rate = 1\n",
        "min_exploration_rate = 0.01\n",
        "exploration_decay_rate = 0.001"
      ],
      "execution_count": 11,
      "outputs": []
    },
    {
      "cell_type": "code",
      "metadata": {
        "id": "vRMlrsGH0-uR",
        "outputId": "02197bfc-b025-4be9-cbbd-ae420ab28b67",
        "colab": {
          "base_uri": "https://localhost:8080/",
          "height": 538
        }
      },
      "source": [
        "rewards_all_episodes = []\n",
        "\n",
        "for episode in range(num_episodes):\n",
        "    state = env.reset()\n",
        "\n",
        "    done = False\n",
        "    rewards_current_episode = 0\n",
        "\n",
        "    for step in range(max_steps_per_episode):\n",
        "\n",
        "           # Exploration - exploitation trade off\n",
        "           exploration_rate_threshold = random.uniform(0,1) \n",
        "           if exploration_rate_threshold > exploration_rate: #exploitation\n",
        "             action = np.argmax(q_table[state,:])\n",
        "           else:\n",
        "             action = env.action_space.sample() #exploration\n",
        "           \n",
        "           new_state, reward, done, info = env.step(action)\n",
        "\n",
        "\n",
        "           #Update Q - table for Q(s,a)\n",
        "\n",
        "           q_table[state, action] = (q_table[state, action] * (1-learning_rate) + \n",
        "                   learning_rate * (reward + discount_rate * np.max(q_table[new_state, :])) )\n",
        "    \n",
        "           state = new_state\n",
        "           rewards_current_episode += reward\n",
        "\n",
        "           if done == True : \n",
        "                break\n",
        "\n",
        "       # Exploration rate decay\n",
        "    exploration_rate = min_exploration_rate + (max_exploration_rate - min_exploration_rate) * np.exp(-exploration_decay_rate *episode)\n",
        "    rewards_all_episodes.append(rewards_current_episode)\n",
        "\n",
        "#Calculate and print the average reward per thousand episodes\n",
        "rewards_per_thousand_episodes = np.split(np.array(rewards_all_episodes),num_episodes/1000)\n",
        "count=1000\n",
        "print(\"Average reward per thousand episodes\\n\")\n",
        "for r in rewards_per_thousand_episodes:\n",
        "  print(count,\" : \", str(sum(r/1000)))\n",
        "  count+=1000\n",
        "print()\n",
        "#Print updated Q-table\n",
        "print(\"            Q-table           \\n\")\n",
        "print(q_table)\n"
      ],
      "execution_count": 28,
      "outputs": [
        {
          "output_type": "stream",
          "text": [
            "Average reward per thousand episodes\n",
            "\n",
            "1000  :  0.06200000000000005\n",
            "2000  :  0.1480000000000001\n",
            "3000  :  0.2720000000000002\n",
            "4000  :  0.43900000000000033\n",
            "5000  :  0.4180000000000003\n",
            "6000  :  0.5240000000000004\n",
            "7000  :  0.5660000000000004\n",
            "8000  :  0.5700000000000004\n",
            "9000  :  0.5120000000000003\n",
            "10000  :  0.5900000000000004\n",
            "\n",
            "            Q-table           \n",
            "\n",
            "[[0.08317674 0.04779861 0.04762641 0.04783264]\n",
            " [0.03659547 0.03590102 0.0331244  0.04961874]\n",
            " [0.06331169 0.05251414 0.04612354 0.04507445]\n",
            " [0.01887794 0.0296295  0.02998689 0.03691475]\n",
            " [0.11604052 0.05991918 0.05986533 0.05494593]\n",
            " [0.         0.         0.         0.        ]\n",
            " [0.10214615 0.02600912 0.06286759 0.02792299]\n",
            " [0.         0.         0.         0.        ]\n",
            " [0.07154654 0.07453054 0.07274464 0.15255958]\n",
            " [0.16262473 0.28263978 0.14002082 0.14014292]\n",
            " [0.43466377 0.11827612 0.19667574 0.10874735]\n",
            " [0.         0.         0.         0.        ]\n",
            " [0.         0.         0.         0.        ]\n",
            " [0.18785824 0.18196747 0.4314159  0.23013097]\n",
            " [0.39483274 0.81659017 0.43747312 0.48166499]\n",
            " [0.         0.         0.         0.        ]]\n"
          ],
          "name": "stdout"
        }
      ]
    },
    {
      "cell_type": "code",
      "metadata": {
        "id": "8SP47O9oBcVi"
      },
      "source": [
        ""
      ],
      "execution_count": 28,
      "outputs": []
    },
    {
      "cell_type": "code",
      "metadata": {
        "id": "QUYId7581Dtm"
      },
      "source": [
        ""
      ],
      "execution_count": null,
      "outputs": []
    }
  ]
}