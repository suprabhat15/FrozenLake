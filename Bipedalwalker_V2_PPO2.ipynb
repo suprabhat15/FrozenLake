{
  "nbformat": 4,
  "nbformat_minor": 0,
  "metadata": {
    "colab": {
      "name": "Bipedalwalker-V2_PPO2.ipynb",
      "provenance": [],
      "collapsed_sections": [],
      "toc_visible": true,
      "include_colab_link": true
    },
    "kernelspec": {
      "name": "python3",
      "display_name": "Python 3"
    },
    "accelerator": "TPU"
  },
  "cells": [
    {
      "cell_type": "markdown",
      "metadata": {
        "id": "view-in-github",
        "colab_type": "text"
      },
      "source": [
        "<a href=\"https://colab.research.google.com/github/suprabhat25/FrozenLake/blob/main/Bipedalwalker_V2_PPO2.ipynb\" target=\"_parent\"><img src=\"https://colab.research.google.com/assets/colab-badge.svg\" alt=\"Open In Colab\"/></a>"
      ]
    },
    {
      "cell_type": "markdown",
      "metadata": {
        "id": "hyyN-2qyK_T2"
      },
      "source": [
        "\n",
        "# Deep Learning Labs S01 E05: BiPedalwalker-V2\n",
        "\n",
        "This colab will allow you to train, evaluate and visulize your results. As Google colab don't support env.render() we will use a work around where we \"fake\" a display, record a video and then display it. \n",
        "\n",
        "Notebook will run with classic **CPU** enviorment as well as **GPU** & **TPU**\n",
        "\n",
        "> To run it all select `runtime` in menu and choose `run all`\n",
        "\n",
        "![Nextgrid Deep learning labs](https://nextgrid.ai/wp-content/uploads/2019/12/Deck-wallpaper-logo-scaled.jpg)\n",
        "\n",
        "### Stable Baselines OpenAI Gym BiPedalwalker-V2\n",
        "\n",
        "Notebook by [nextgrid.ai](https://nextgrid.ai) for [Deep learning labs](https://nextgrid.ai/deep-learning-labs/) #5.\n",
        "\n",
        "\n",
        "Documentation for stabile-baselines available at: [https://stable-baselines.readthedocs.io/](https://stable-baselines.readthedocs.io/)\n",
        "\n",
        "\n",
        "notebook authored by M.   \n",
        "[linkedin](https://www.linkedin.com/in/imathias) / [twitter](https://twitter.com/mathiiias123)   \n",
        "\n"
      ]
    },
    {
      "cell_type": "markdown",
      "metadata": {
        "id": "22TBe2qeFlyr"
      },
      "source": [
        "## Install system wide packages\n",
        "Install linux server packages using `apt-get` and Python packages using `pip`"
      ]
    },
    {
      "cell_type": "code",
      "metadata": {
        "id": "gWskDE2c9WoN"
      },
      "source": [
        "!apt-get install swig cmake libopenmpi-dev zlib1g-dev xvfb x11-utils ffmpeg -qq #remove -qq for full output\n",
        "!pip install stable-baselines[mpi] box2d box2d-kengz pyvirtualdisplay pyglet==1.3.1 --quiet #remove --quiet for full output \n",
        "# Stable Baselines only supports tensorflow 1.x for now\n",
        "%tensorflow_version 1.x"
      ],
      "execution_count": null,
      "outputs": []
    },
    {
      "cell_type": "markdown",
      "metadata": {
        "id": "pQL5IxILUblP"
      },
      "source": [
        ""
      ]
    },
    {
      "cell_type": "markdown",
      "metadata": {
        "id": "FtY8FhliLsGm"
      },
      "source": [
        "## Dependencis\n",
        "import dependencis required to run & train our model + record a video"
      ]
    },
    {
      "cell_type": "code",
      "metadata": {
        "id": "2pToLfvOzCKQ"
      },
      "source": [
        "import gym\n",
        "import imageio\n",
        "import numpy as np\n",
        "import base64\n",
        "import IPython\n",
        "import PIL.Image\n",
        "import pyvirtualdisplay\n",
        "\n",
        "# Video stuff \n",
        "from pathlib import Path\n",
        "from IPython import display as ipythondisplay\n",
        "\n",
        "from stable_baselines.common.policies import MlpPolicy\n",
        "from stable_baselines.common.vec_env import VecVideoRecorder, SubprocVecEnv, DummyVecEnv\n",
        "from stable_baselines import PPO2"
      ],
      "execution_count": null,
      "outputs": []
    },
    {
      "cell_type": "markdown",
      "metadata": {
        "id": "WlaTq_UvGKo-"
      },
      "source": [
        "## Define variables & functions\n",
        "Here we define our variables and also create a couple of functions "
      ]
    },
    {
      "cell_type": "code",
      "metadata": {
        "id": "tKA52SBe6JdJ"
      },
      "source": [
        "# set enviorment variables that we will use in our code\n",
        "env_id = 'BipedalWalker-v2'\n",
        "video_folder = '/videos'\n",
        "video_length = 100\n",
        "\n",
        "# set our inital enviorment\n",
        "env = DummyVecEnv([lambda: gym.make(env_id)])\n",
        "obs = env.reset()"
      ],
      "execution_count": null,
      "outputs": []
    },
    {
      "cell_type": "code",
      "metadata": {
        "id": "CBVNrcLawXeB"
      },
      "source": [
        "# Evaluation Function\n",
        "def evaluate(model, num_steps=1000):\n",
        "  \"\"\"\n",
        "  Evaluate a RL agent\n",
        "  :param model: (BaseRLModel object) the RL Agent\n",
        "  :param num_steps: (int) number of timesteps to evaluate it\n",
        "  :return: (float) Mean reward for the last 100 episodes\n",
        "  \"\"\"\n",
        "  episode_rewards = [0.0]\n",
        "  obs = env.reset()\n",
        "  for i in range(num_steps):\n",
        "      # _states are only useful when using LSTM policies\n",
        "      action, _states = model.predict(obs)\n",
        "\n",
        "      obs, reward, done, info = env.step(action)\n",
        "      \n",
        "      # Stats\n",
        "      episode_rewards[-1] += reward\n",
        "      if done:\n",
        "          obs = env.reset()\n",
        "          episode_rewards.append(0.0)\n",
        "  # Compute mean reward for the last 100 episodes\n",
        "  mean_100ep_reward = round(np.mean(episode_rewards[-100:]), 1)\n",
        "  print(\"Mean reward:\", mean_100ep_reward, \"Num episodes:\", len(episode_rewards))\n",
        "  \n",
        "  return mean_100ep_reward"
      ],
      "execution_count": null,
      "outputs": []
    },
    {
      "cell_type": "code",
      "metadata": {
        "id": "OAqAATOx79Xt"
      },
      "source": [
        "# Make video\n",
        "# Set up fake display; otherwise rendering will fail\n",
        "import os\n",
        "os.system(\"Xvfb :1 -screen 0 1024x768x24 &\")\n",
        "os.environ['DISPLAY'] = ':1'"
      ],
      "execution_count": null,
      "outputs": []
    },
    {
      "cell_type": "code",
      "metadata": {
        "id": "H-qEyqYl86uI"
      },
      "source": [
        "# Record video\n",
        "def record_video(env_id, model, video_length=500, prefix='', video_folder='videos/'):\n",
        "  \"\"\"\n",
        "  :param env_id: (str)\n",
        "  :param model: (RL model)\n",
        "  :param video_length: (int)\n",
        "  :param prefix: (str)\n",
        "  :param video_folder: (str)\n",
        "  \"\"\"\n",
        "  eval_env = DummyVecEnv([lambda: gym.make('BipedalWalker-v2')])\n",
        "  # Start the video at step=0 and record 500 steps\n",
        "  eval_env = VecVideoRecorder(env, video_folder=video_folder,\n",
        "                              record_video_trigger=lambda step: step == 0, video_length=video_length,\n",
        "                              name_prefix=prefix)\n",
        "\n",
        "  obs = eval_env.reset()\n",
        "  for _ in range(video_length):\n",
        "    action, _ = model.predict(obs)\n",
        "    obs, _, _, _ = eval_env.step(action)\n",
        "\n",
        "  # Close the video recorder\n",
        "  eval_env.close()"
      ],
      "execution_count": null,
      "outputs": []
    },
    {
      "cell_type": "code",
      "metadata": {
        "id": "r0KzI3_n81YH"
      },
      "source": [
        "# Display video\n",
        "def show_videos(video_path='', prefix=''):\n",
        "  html = []\n",
        "  for mp4 in Path(video_path).glob(\"{}*.mp4\".format(prefix)):\n",
        "      video_b64 = base64.b64encode(mp4.read_bytes())\n",
        "      html.append('''<video alt=\"{}\" autoplay \n",
        "                    loop controls style=\"height: 400px;\">\n",
        "                    <source src=\"data:video/mp4;base64,{}\" type=\"video/mp4\" />\n",
        "                </video>'''.format(mp4, video_b64.decode('ascii')))\n",
        "  ipythondisplay.display(ipythondisplay.HTML(data=\"<br>\".join(html)))"
      ],
      "execution_count": null,
      "outputs": []
    },
    {
      "cell_type": "markdown",
      "metadata": {
        "id": "ID-CT-JiWkEq"
      },
      "source": [
        "# Define & Configure out Reinforcment learning algoritm \n",
        "In this example we are using default PPO2 / Proximal Policy Optimization. Read more about how you define your PPO2 [parameters](https://stable-baselines.readthedocs.io/en/master/modules/ppo2.html#parameters) "
      ]
    },
    {
      "cell_type": "code",
      "metadata": {
        "id": "nQRSdpIa1e2o"
      },
      "source": [
        "# Define the model\n",
        "model = PPO2(MlpPolicy, env, verbose=1) # add & tweak default parameters, messure your output & improve link to parameters above (it will however work with default)"
      ],
      "execution_count": null,
      "outputs": []
    },
    {
      "cell_type": "markdown",
      "metadata": {
        "id": "pmK85N-4XdK7"
      },
      "source": [
        "## Train model 50k steps & evaluate results\n",
        "Here we train, evaluate, save, record & display video"
      ]
    },
    {
      "cell_type": "code",
      "metadata": {
        "id": "BIedd7Pz9sOs"
      },
      "source": [
        "\n",
        "# Random Agent, before training\n",
        "mean_reward_before_train = evaluate(model, num_steps=10000)\n",
        "\n",
        "# Train model\n",
        "model.learn(total_timesteps=50000)\n",
        "\n",
        "# Save model\n",
        "model.save(\"ppo2-walker-50000\")\n",
        "\n",
        "# Random Agent, after training\n",
        "mean_reward_after_train = evaluate(model, num_steps=1000)"
      ],
      "execution_count": null,
      "outputs": []
    },
    {
      "cell_type": "code",
      "metadata": {
        "id": "RcRLC8Wldwwf"
      },
      "source": [
        "# Record & show video\n",
        "record_video('BipedalWalker-v2', model, video_length=1500, prefix='ppo2-walker-50000')\n",
        "show_videos('videos', prefix='ppo2-walker-50000')"
      ],
      "execution_count": null,
      "outputs": []
    },
    {
      "cell_type": "markdown",
      "metadata": {
        "id": "r5UoXTZPNdFE"
      },
      "source": [
        "## Train model another 500k steps & evaluate results\n"
      ]
    },
    {
      "cell_type": "code",
      "metadata": {
        "id": "g6Kp_p3OXHvi"
      },
      "source": [
        "# Random Agent, before training\n",
        "mean_reward_before_train = evaluate(model, num_steps=10000)\n",
        "\n",
        "# Train model\n",
        "model.learn(total_timesteps=500000)\n",
        "\n",
        "# Save model\n",
        "model.save(\"ppo2-walker-500000\")\n",
        "\n",
        "# Random Agent, after training\n",
        "mean_reward_after_train = evaluate(model, num_steps=10000)"
      ],
      "execution_count": null,
      "outputs": []
    },
    {
      "cell_type": "code",
      "metadata": {
        "id": "DNrCLGTMd1mg"
      },
      "source": [
        "# Record & show video\n",
        "record_video('BipedalWalker-v2', model, video_length=1500, prefix='ppo2-walker-500000')\n",
        "show_videos('videos', prefix='ppo2-walker-500000')"
      ],
      "execution_count": null,
      "outputs": []
    }
  ]
}