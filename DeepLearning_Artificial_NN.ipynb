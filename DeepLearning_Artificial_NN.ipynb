{
  "nbformat": 4,
  "nbformat_minor": 0,
  "metadata": {
    "colab": {
      "name": "DeepLearning-Artificial NN.ipynb",
      "provenance": [],
      "collapsed_sections": [],
      "authorship_tag": "ABX9TyPlTomSBFu7eq56+neWieZM",
      "include_colab_link": true
    },
    "kernelspec": {
      "name": "python3",
      "display_name": "Python 3"
    }
  },
  "cells": [
    {
      "cell_type": "markdown",
      "metadata": {
        "id": "view-in-github",
        "colab_type": "text"
      },
      "source": [
        "<a href=\"https://colab.research.google.com/github/suprabhat25/FrozenLake/blob/main/DeepLearning_Artificial_NN.ipynb\" target=\"_parent\"><img src=\"https://colab.research.google.com/assets/colab-badge.svg\" alt=\"Open In Colab\"/></a>"
      ]
    },
    {
      "cell_type": "markdown",
      "metadata": {
        "id": "dGNwxBblTffh"
      },
      "source": [
        "Types of Layers:-\n",
        "1. Convolutiona layers(deals with image dataset)\n",
        "2. Dense(or fully connected layers)\n",
        "3. Pooling layers\n",
        "4. Recurrent layers\n",
        "5. Normalization layers, etc."
      ]
    },
    {
      "cell_type": "code",
      "metadata": {
        "id": "8DROzbCpS8Cv"
      },
      "source": [
        "from keras.models import Sequential\n",
        "from keras.layers import Dense, Activation\n",
        "\n",
        "model = Sequential([\n",
        "            Dense(5, input_shape=(3,), activation='relu'), # relu is a linear function meaning rectified linear unit,[f(x) = max(0,x)]\n",
        "            Dense(2,activation='softmax'),\n",
        "])"
      ],
      "execution_count": null,
      "outputs": []
    },
    {
      "cell_type": "markdown",
      "metadata": {
        "id": "fWzI-UfCUKjg"
      },
      "source": [
        "**Activation Functions**\n",
        "\n",
        "In ANN, the activation function of a neuron defines the output of that neuron given a set of inputs.\n",
        "\n",
        "Biologically inspired by activity in our brains, where different neurons fire, or are activated by different stimuli.\n",
        "\n",
        "Eg. Sigmoid, relu, etc."
      ]
    },
    {
      "cell_type": "code",
      "metadata": {
        "id": "veTGFvpOT7T-"
      },
      "source": [
        "from keras.models import Sequential\n",
        "from keras.layers import Dense, Activation\n",
        "\n",
        "model = Sequential([\n",
        "            Dense(5, input_shape=(3,), activation='relu'), # relu is a linear function meaning rectified linear unit,[f(x) = max(0,x)]\n",
        "])"
      ],
      "execution_count": null,
      "outputs": []
    },
    {
      "cell_type": "code",
      "metadata": {
        "id": "LdmATtanWZbu"
      },
      "source": [
        "model = Sequential()\n",
        "model.add(Dense(5, input_shape=(3,)))\n",
        "model.add(Activation('relu'))"
      ],
      "execution_count": null,
      "outputs": []
    },
    {
      "cell_type": "markdown",
      "metadata": {
        "id": "R8Mro9f0XebU"
      },
      "source": [
        "# **Training**\n",
        "Solving an optimization process\n",
        "1. Optimizing weights\n",
        "     - with Stochastic Gradient Descent(SGD) - it updates the weights so as to minimize the loss\n",
        "2. Objective Minimize the loss function\n",
        "\n",
        "EPOCH is the single pass of the data through the model.\n",
        "\n",
        "**LEARNING OF THE NN** means updating the weights of the model to minimise the loss.\n",
        "\n",
        "**Updated weight** = gradient * learning rate where gradient = d(loss)/d(weight).\n",
        "\n",
        "Learning rate usually varies from 0.01 to 0.0001 but can varies actually.\n",
        "\n",
        "We subtract the updated weight from the actual values to get min. loss.\n",
        "\n",
        "\n"
      ]
    },
    {
      "cell_type": "code",
      "metadata": {
        "id": "NmzV5hBsYCuv"
      },
      "source": [
        "import keras\n",
        "from keras import backend as K\n",
        "from keras.models import Sequential\n",
        "from keras.layers import Activation\n",
        "from keras.layers.core import Dense\n",
        "from keras.optimizers import Adam\n",
        "from keras.metrics import categorical_crossentropy\n",
        "from keras import regularizers\n"
      ],
      "execution_count": null,
      "outputs": []
    },
    {
      "cell_type": "code",
      "metadata": {
        "id": "MJwrdps3hJks"
      },
      "source": [
        "model = Sequential([\n",
        "                    Dense(16,input_shape=(1,), activation='relu'),\n",
        "                    Dense(32, activation='relu',kernel_regularizer=regularizers.l2(0.01)), # here 0.01 is lambda(regularization parameter) and l2 regularization has been used \n",
        "                    Dense(2,activation='softmax')\n",
        "])"
      ],
      "execution_count": null,
      "outputs": []
    },
    {
      "cell_type": "code",
      "metadata": {
        "id": "wM1pmeiApWX7"
      },
      "source": [
        ""
      ],
      "execution_count": null,
      "outputs": []
    },
    {
      "cell_type": "code",
      "metadata": {
        "id": "_jwb9A-4hlpR"
      },
      "source": [
        "model.compile(Adam(lr=0.001), loss = 'sparse_categorical_crossentropy', metrics=['accuracy'])"
      ],
      "execution_count": null,
      "outputs": []
    },
    {
      "cell_type": "code",
      "metadata": {
        "id": "r5BWm71T-T6N"
      },
      "source": [
        "model.optimizer.lr=0.01"
      ],
      "execution_count": null,
      "outputs": []
    },
    {
      "cell_type": "code",
      "metadata": {
        "id": "nOWqUl3z-ytN",
        "outputId": "4e6c65b4-c6de-478f-bdc3-4ad71bbed95c",
        "colab": {
          "base_uri": "https://localhost:8080/",
          "height": 34
        }
      },
      "source": [
        "model.optimizer.lr"
      ],
      "execution_count": null,
      "outputs": [
        {
          "output_type": "execute_result",
          "data": {
            "text/plain": [
              "<tf.Variable 'learning_rate:0' shape=() dtype=float32, numpy=0.01>"
            ]
          },
          "metadata": {
            "tags": []
          },
          "execution_count": 9
        }
      ]
    },
    {
      "cell_type": "code",
      "metadata": {
        "id": "YCcCSwomny8Z"
      },
      "source": [
        "model.fit(scaled_train_samples, train_labels, batch_size=10, epochs=20, shuffle=True, verbose=2)"
      ],
      "execution_count": null,
      "outputs": []
    },
    {
      "cell_type": "code",
      "metadata": {
        "id": "p3CHYslRnz7S"
      },
      "source": [
        ""
      ],
      "execution_count": null,
      "outputs": []
    }
  ]
}