{
  "nbformat": 4,
  "nbformat_minor": 0,
  "metadata": {
    "colab": {
      "name": "DeepLearning-Artificial NN.ipynb",
      "provenance": [],
      "collapsed_sections": [],
      "authorship_tag": "ABX9TyPbXzaAQcKKwhRWL/81/ZDI",
      "include_colab_link": true
    },
    "kernelspec": {
      "name": "python3",
      "display_name": "Python 3"
    }
  },
  "cells": [
    {
      "cell_type": "markdown",
      "metadata": {
        "id": "view-in-github",
        "colab_type": "text"
      },
      "source": [
        "<a href=\"https://colab.research.google.com/github/suprabhat25/FrozenLake/blob/main/DeepLearning_Artificial_NN.ipynb\" target=\"_parent\"><img src=\"https://colab.research.google.com/assets/colab-badge.svg\" alt=\"Open In Colab\"/></a>"
      ]
    },
    {
      "cell_type": "markdown",
      "metadata": {
        "id": "dGNwxBblTffh"
      },
      "source": [
        "Types of Layers:-\n",
        "1. Convolutiona layers(deals with image dataset)\n",
        "2. Dense(or fully connected layers)\n",
        "3. Pooling layers\n",
        "4. Recurrent layers\n",
        "5. Normalization layers, etc."
      ]
    },
    {
      "cell_type": "code",
      "metadata": {
        "id": "8DROzbCpS8Cv"
      },
      "source": [
        "from keras.models import Sequential\n",
        "from keras.layers import Dense, Activation\n",
        "\n",
        "model = Sequential([\n",
        "            Dense(5, input_shape=(3,), activation='relu'), # relu is a linear function meaning rectified linear unit,[f(x) = max(0,x)]\n",
        "            Dense(2,activation='softmax'),\n",
        "])"
      ],
      "execution_count": 2,
      "outputs": []
    },
    {
      "cell_type": "markdown",
      "metadata": {
        "id": "fWzI-UfCUKjg"
      },
      "source": [
        "**Activation Functions**\n",
        "\n",
        "In ANN, the activation function of a neuron defines the output of that neuron given a set of inputs.\n",
        "\n",
        "Biologically inspired by activity in our brains, where different neurons fire, or are activated by different stimuli.\n",
        "\n",
        "Eg. Sigmoid, relu, etc."
      ]
    },
    {
      "cell_type": "code",
      "metadata": {
        "id": "veTGFvpOT7T-"
      },
      "source": [
        "from keras.models import Sequential\n",
        "from keras.layers import Dense, Activation\n",
        "\n",
        "model = Sequential([\n",
        "            Dense(5, input_shape=(3,), activation='relu'), # relu is a linear function meaning rectified linear unit,[f(x) = max(0,x)]\n",
        "])"
      ],
      "execution_count": 3,
      "outputs": []
    },
    {
      "cell_type": "code",
      "metadata": {
        "id": "LdmATtanWZbu"
      },
      "source": [
        "model = Sequential()\n",
        "model.add(Dense(5, input_shape=(3,)))\n",
        "model.add(Activation('relu'))"
      ],
      "execution_count": 7,
      "outputs": []
    },
    {
      "cell_type": "markdown",
      "metadata": {
        "id": "R8Mro9f0XebU"
      },
      "source": [
        "# **Training**\n",
        "Solving an optimization process\n",
        "1. Optimizing weights\n",
        "     - with Stochastic Gradient Descent(SGD) - it updates the weights so as to minimize the loss\n",
        "2. Objective Minimize the loss function\n",
        "\n",
        "EPOCH is the single pass of the data through the model.\n",
        "\n",
        "**LEARNING OF THE NN** means updating the weights of the model to minimise the loss.\n",
        "\n",
        "**Updated weight** = gradient * learning rate where gradient = d(loss)/d(weight).\n",
        "\n",
        "Learning rate usually varies from 0.01 to 0.0001 but can varies actually.\n",
        "\n",
        "We subtract the updated weight from the actual values to get min. loss.\n",
        "\n",
        "\n"
      ]
    },
    {
      "cell_type": "code",
      "metadata": {
        "id": "NmzV5hBsYCuv"
      },
      "source": [
        "import keras\n",
        "from keras import backend as K\n",
        "from keras.models import Sequential\n",
        "from keras.layers import Activation\n",
        "from keras.layers.core import Dense\n",
        "from keras.optimizers import Adam\n",
        "from keras.metrics import categorical_crossentropy\n"
      ],
      "execution_count": 4,
      "outputs": []
    },
    {
      "cell_type": "code",
      "metadata": {
        "id": "MJwrdps3hJks"
      },
      "source": [
        "model = Sequential([\n",
        "                    Dense(16,input_shape=(1,), activation='relu'),\n",
        "                    Dense(32, activation='relu'),\n",
        "                    Dense(2,activation='softmax')\n",
        "])"
      ],
      "execution_count": 5,
      "outputs": []
    },
    {
      "cell_type": "code",
      "metadata": {
        "id": "_jwb9A-4hlpR"
      },
      "source": [
        "model.compile(Adam(lr=0.001), loss = 'sparse_categorical_crossentropy', metrics=['accuracy'])"
      ],
      "execution_count": 7,
      "outputs": []
    },
    {
      "cell_type": "code",
      "metadata": {
        "id": "r5BWm71T-T6N"
      },
      "source": [
        "model.optimizer.lr=0.01"
      ],
      "execution_count": 8,
      "outputs": []
    },
    {
      "cell_type": "code",
      "metadata": {
        "id": "nOWqUl3z-ytN",
        "outputId": "4e6c65b4-c6de-478f-bdc3-4ad71bbed95c",
        "colab": {
          "base_uri": "https://localhost:8080/",
          "height": 34
        }
      },
      "source": [
        "model.optimizer.lr"
      ],
      "execution_count": 9,
      "outputs": [
        {
          "output_type": "execute_result",
          "data": {
            "text/plain": [
              "<tf.Variable 'learning_rate:0' shape=() dtype=float32, numpy=0.01>"
            ]
          },
          "metadata": {
            "tags": []
          },
          "execution_count": 9
        }
      ]
    },
    {
      "cell_type": "code",
      "metadata": {
        "id": "M5fyIw77h8YR",
        "outputId": "76ffb978-eb4f-419e-d1f7-60abf2dfd364",
        "colab": {
          "base_uri": "https://localhost:8080/",
          "height": 178
        }
      },
      "source": [
        "model.fit(scaled_train_samples, train_labels, batch_size=10, epochs=20, shuffle=True, verbose=2)"
      ],
      "execution_count": 11,
      "outputs": [
        {
          "output_type": "error",
          "ename": "NameError",
          "evalue": "ignored",
          "traceback": [
            "\u001b[0;31m---------------------------------------------------------------------------\u001b[0m",
            "\u001b[0;31mNameError\u001b[0m                                 Traceback (most recent call last)",
            "\u001b[0;32m<ipython-input-11-96bfbc6375fe>\u001b[0m in \u001b[0;36m<module>\u001b[0;34m()\u001b[0m\n\u001b[0;32m----> 1\u001b[0;31m \u001b[0mmodel\u001b[0m\u001b[0;34m.\u001b[0m\u001b[0mfit\u001b[0m\u001b[0;34m(\u001b[0m\u001b[0mscaled_train_samples\u001b[0m\u001b[0;34m,\u001b[0m \u001b[0mtrain_labels\u001b[0m\u001b[0;34m,\u001b[0m \u001b[0mBatch_size\u001b[0m\u001b[0;34m=\u001b[0m\u001b[0;36m10\u001b[0m\u001b[0;34m,\u001b[0m \u001b[0mepochs\u001b[0m\u001b[0;34m=\u001b[0m\u001b[0;36m20\u001b[0m\u001b[0;34m,\u001b[0m \u001b[0mshuffle\u001b[0m\u001b[0;34m=\u001b[0m\u001b[0;32mTrue\u001b[0m\u001b[0;34m,\u001b[0m \u001b[0mverbose\u001b[0m\u001b[0;34m=\u001b[0m\u001b[0;36m2\u001b[0m\u001b[0;34m)\u001b[0m\u001b[0;34m\u001b[0m\u001b[0;34m\u001b[0m\u001b[0m\n\u001b[0m",
            "\u001b[0;31mNameError\u001b[0m: name 'scaled_train_samples' is not defined"
          ]
        }
      ]
    }
  ]
}